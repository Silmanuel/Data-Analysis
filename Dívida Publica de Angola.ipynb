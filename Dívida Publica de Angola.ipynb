{
 "cells": [
  {
   "cell_type": "markdown",
   "metadata": {},
   "source": [
    "# Análise de dados sobre a informação da dívida pública de Angola no período de 2012-2019"
   ]
  },
  {
   "cell_type": "markdown",
   "metadata": {},
   "source": [
    "### Nota: Os valores são em Milhões de Doláres"
   ]
  },
  {
   "cell_type": "markdown",
   "metadata": {},
   "source": [
    "#### 1 - Importar as bibliotecas para Data Analysis"
   ]
  },
  {
   "cell_type": "code",
   "execution_count": 2,
   "metadata": {},
   "outputs": [],
   "source": [
    "import pandas as pd\n",
    "import matplotlib.pyplot as plt\n",
    "import seaborn as sb\n",
    "%matplotlib inline\n",
    "import locale"
   ]
  },
  {
   "cell_type": "markdown",
   "metadata": {},
   "source": [
    "#### 2 - Definir o formato de visualização dos números para 2 casas decimais"
   ]
  },
  {
   "cell_type": "code",
   "execution_count": 3,
   "metadata": {},
   "outputs": [],
   "source": [
    "pd.options.display.float_format = '{:,.2f}'.format"
   ]
  },
  {
   "cell_type": "markdown",
   "metadata": {},
   "source": [
    "#### 3 - Instrução para leitura da informação no ficheiro excel"
   ]
  },
  {
   "cell_type": "code",
   "execution_count": 4,
   "metadata": {},
   "outputs": [],
   "source": [
    "df=pd.read_excel('DividaPublica.xlsx',skiprows=5)"
   ]
  },
  {
   "cell_type": "markdown",
   "metadata": {},
   "source": [
    "#### 4 - Leitura dos primeiros 5 registos"
   ]
  },
  {
   "cell_type": "code",
   "execution_count": 6,
   "metadata": {},
   "outputs": [
    {
     "data": {
      "text/html": [
       "<div>\n",
       "<style scoped>\n",
       "    .dataframe tbody tr th:only-of-type {\n",
       "        vertical-align: middle;\n",
       "    }\n",
       "\n",
       "    .dataframe tbody tr th {\n",
       "        vertical-align: top;\n",
       "    }\n",
       "\n",
       "    .dataframe thead th {\n",
       "        text-align: right;\n",
       "    }\n",
       "</style>\n",
       "<table border=\"1\" class=\"dataframe\">\n",
       "  <thead>\n",
       "    <tr style=\"text-align: right;\">\n",
       "      <th></th>\n",
       "      <th>DESCRIÇÃO</th>\n",
       "      <th>2012</th>\n",
       "      <th>2013</th>\n",
       "      <th>2014</th>\n",
       "      <th>2015</th>\n",
       "      <th>2016</th>\n",
       "      <th>2017</th>\n",
       "      <th>2018</th>\n",
       "      <th>2019</th>\n",
       "      <th>DESCRIPTION</th>\n",
       "    </tr>\n",
       "  </thead>\n",
       "  <tbody>\n",
       "    <tr>\n",
       "      <td>0</td>\n",
       "      <td>NaN</td>\n",
       "      <td>nan</td>\n",
       "      <td>nan</td>\n",
       "      <td>nan</td>\n",
       "      <td>nan</td>\n",
       "      <td>nan</td>\n",
       "      <td>nan</td>\n",
       "      <td>nan</td>\n",
       "      <td>nan</td>\n",
       "      <td>NaN</td>\n",
       "    </tr>\n",
       "    <tr>\n",
       "      <td>1</td>\n",
       "      <td>ÁFRICA DO SUL</td>\n",
       "      <td>128.26</td>\n",
       "      <td>119.90</td>\n",
       "      <td>889.66</td>\n",
       "      <td>867.67</td>\n",
       "      <td>858.30</td>\n",
       "      <td>732.36</td>\n",
       "      <td>720.11</td>\n",
       "      <td>639.70</td>\n",
       "      <td>SOUTH AFRICA</td>\n",
       "    </tr>\n",
       "    <tr>\n",
       "      <td>2</td>\n",
       "      <td>ALEMANHA</td>\n",
       "      <td>153.11</td>\n",
       "      <td>145.38</td>\n",
       "      <td>107.52</td>\n",
       "      <td>78.79</td>\n",
       "      <td>58.07</td>\n",
       "      <td>117.29</td>\n",
       "      <td>313.12</td>\n",
       "      <td>291.81</td>\n",
       "      <td>GERMANY</td>\n",
       "    </tr>\n",
       "    <tr>\n",
       "      <td>3</td>\n",
       "      <td>AÚSTRIA</td>\n",
       "      <td>7.05</td>\n",
       "      <td>7.30</td>\n",
       "      <td>6.51</td>\n",
       "      <td>5.90</td>\n",
       "      <td>147.76</td>\n",
       "      <td>148.08</td>\n",
       "      <td>239.68</td>\n",
       "      <td>225.05</td>\n",
       "      <td>AUSTRIA</td>\n",
       "    </tr>\n",
       "    <tr>\n",
       "      <td>4</td>\n",
       "      <td>BAHAMAS</td>\n",
       "      <td>97.20</td>\n",
       "      <td>58.31</td>\n",
       "      <td>19.44</td>\n",
       "      <td>0.00</td>\n",
       "      <td>0.00</td>\n",
       "      <td>0.00</td>\n",
       "      <td>0.00</td>\n",
       "      <td>0.00</td>\n",
       "      <td>BAHAMAS</td>\n",
       "    </tr>\n",
       "  </tbody>\n",
       "</table>\n",
       "</div>"
      ],
      "text/plain": [
       "       DESCRIÇÃO   2012   2013   2014   2015   2016   2017   2018   2019  \\\n",
       "0            NaN    nan    nan    nan    nan    nan    nan    nan    nan   \n",
       "1  ÁFRICA DO SUL 128.26 119.90 889.66 867.67 858.30 732.36 720.11 639.70   \n",
       "2       ALEMANHA 153.11 145.38 107.52  78.79  58.07 117.29 313.12 291.81   \n",
       "3        AÚSTRIA   7.05   7.30   6.51   5.90 147.76 148.08 239.68 225.05   \n",
       "4        BAHAMAS  97.20  58.31  19.44   0.00   0.00   0.00   0.00   0.00   \n",
       "\n",
       "    DESCRIPTION  \n",
       "0           NaN  \n",
       "1  SOUTH AFRICA  \n",
       "2       GERMANY  \n",
       "3       AUSTRIA  \n",
       "4       BAHAMAS  "
      ]
     },
     "execution_count": 6,
     "metadata": {},
     "output_type": "execute_result"
    }
   ],
   "source": [
    "df.head()"
   ]
  },
  {
   "cell_type": "markdown",
   "metadata": {},
   "source": [
    "#### 5 - Instrução para apagar os registos vazios"
   ]
  },
  {
   "cell_type": "code",
   "execution_count": 7,
   "metadata": {},
   "outputs": [],
   "source": [
    "df=df.dropna()"
   ]
  },
  {
   "cell_type": "markdown",
   "metadata": {},
   "source": [
    "#### 6 - Instrução para remover a coluna 'DESCRIPTION' sobre o ficheiro"
   ]
  },
  {
   "cell_type": "code",
   "execution_count": 8,
   "metadata": {},
   "outputs": [],
   "source": [
    "df.drop(columns=['DESCRIPTION'],inplace=True)"
   ]
  },
  {
   "cell_type": "markdown",
   "metadata": {},
   "source": [
    "#### 7 - Descrição de breve estatística sobre os campos do ficheiro (Nº de registo, Valor Médio, Desvio Padrão, Valor Mínimo, 25%,50%,75% e o Valor máximo de cada observação)"
   ]
  },
  {
   "cell_type": "code",
   "execution_count": 10,
   "metadata": {
    "scrolled": true
   },
   "outputs": [
    {
     "data": {
      "text/html": [
       "<div>\n",
       "<style scoped>\n",
       "    .dataframe tbody tr th:only-of-type {\n",
       "        vertical-align: middle;\n",
       "    }\n",
       "\n",
       "    .dataframe tbody tr th {\n",
       "        vertical-align: top;\n",
       "    }\n",
       "\n",
       "    .dataframe thead th {\n",
       "        text-align: right;\n",
       "    }\n",
       "</style>\n",
       "<table border=\"1\" class=\"dataframe\">\n",
       "  <thead>\n",
       "    <tr style=\"text-align: right;\">\n",
       "      <th></th>\n",
       "      <th>2012</th>\n",
       "      <th>2013</th>\n",
       "      <th>2014</th>\n",
       "      <th>2015</th>\n",
       "      <th>2016</th>\n",
       "      <th>2017</th>\n",
       "      <th>2018</th>\n",
       "      <th>2019</th>\n",
       "    </tr>\n",
       "  </thead>\n",
       "  <tbody>\n",
       "    <tr>\n",
       "      <td>count</td>\n",
       "      <td>39.00</td>\n",
       "      <td>39.00</td>\n",
       "      <td>39.00</td>\n",
       "      <td>39.00</td>\n",
       "      <td>39.00</td>\n",
       "      <td>39.00</td>\n",
       "      <td>39.00</td>\n",
       "      <td>39.00</td>\n",
       "    </tr>\n",
       "    <tr>\n",
       "      <td>mean</td>\n",
       "      <td>579.05</td>\n",
       "      <td>722.51</td>\n",
       "      <td>921.36</td>\n",
       "      <td>930.22</td>\n",
       "      <td>1,138.48</td>\n",
       "      <td>1,112.58</td>\n",
       "      <td>1,204.66</td>\n",
       "      <td>1,218.78</td>\n",
       "    </tr>\n",
       "    <tr>\n",
       "      <td>std</td>\n",
       "      <td>1,553.89</td>\n",
       "      <td>2,189.53</td>\n",
       "      <td>2,699.68</td>\n",
       "      <td>2,236.14</td>\n",
       "      <td>3,569.85</td>\n",
       "      <td>3,737.34</td>\n",
       "      <td>3,789.99</td>\n",
       "      <td>3,775.73</td>\n",
       "    </tr>\n",
       "    <tr>\n",
       "      <td>min</td>\n",
       "      <td>-0.00</td>\n",
       "      <td>-0.00</td>\n",
       "      <td>-0.00</td>\n",
       "      <td>0.00</td>\n",
       "      <td>0.00</td>\n",
       "      <td>0.00</td>\n",
       "      <td>0.00</td>\n",
       "      <td>0.00</td>\n",
       "    </tr>\n",
       "    <tr>\n",
       "      <td>25%</td>\n",
       "      <td>0.52</td>\n",
       "      <td>0.53</td>\n",
       "      <td>0.35</td>\n",
       "      <td>0.35</td>\n",
       "      <td>0.35</td>\n",
       "      <td>0.35</td>\n",
       "      <td>0.24</td>\n",
       "      <td>0.35</td>\n",
       "    </tr>\n",
       "    <tr>\n",
       "      <td>50%</td>\n",
       "      <td>30.36</td>\n",
       "      <td>30.36</td>\n",
       "      <td>30.36</td>\n",
       "      <td>63.86</td>\n",
       "      <td>58.07</td>\n",
       "      <td>82.03</td>\n",
       "      <td>106.38</td>\n",
       "      <td>103.67</td>\n",
       "    </tr>\n",
       "    <tr>\n",
       "      <td>75%</td>\n",
       "      <td>159.01</td>\n",
       "      <td>181.28</td>\n",
       "      <td>292.84</td>\n",
       "      <td>883.53</td>\n",
       "      <td>722.94</td>\n",
       "      <td>685.64</td>\n",
       "      <td>838.73</td>\n",
       "      <td>717.15</td>\n",
       "    </tr>\n",
       "    <tr>\n",
       "      <td>max</td>\n",
       "      <td>7,635.69</td>\n",
       "      <td>11,475.66</td>\n",
       "      <td>13,156.28</td>\n",
       "      <td>11,753.37</td>\n",
       "      <td>21,679.22</td>\n",
       "      <td>23,204.91</td>\n",
       "      <td>22,911.20</td>\n",
       "      <td>22,410.97</td>\n",
       "    </tr>\n",
       "  </tbody>\n",
       "</table>\n",
       "</div>"
      ],
      "text/plain": [
       "          2012      2013      2014      2015      2016      2017      2018  \\\n",
       "count    39.00     39.00     39.00     39.00     39.00     39.00     39.00   \n",
       "mean    579.05    722.51    921.36    930.22  1,138.48  1,112.58  1,204.66   \n",
       "std   1,553.89  2,189.53  2,699.68  2,236.14  3,569.85  3,737.34  3,789.99   \n",
       "min      -0.00     -0.00     -0.00      0.00      0.00      0.00      0.00   \n",
       "25%       0.52      0.53      0.35      0.35      0.35      0.35      0.24   \n",
       "50%      30.36     30.36     30.36     63.86     58.07     82.03    106.38   \n",
       "75%     159.01    181.28    292.84    883.53    722.94    685.64    838.73   \n",
       "max   7,635.69 11,475.66 13,156.28 11,753.37 21,679.22 23,204.91 22,911.20   \n",
       "\n",
       "           2019  \n",
       "count     39.00  \n",
       "mean   1,218.78  \n",
       "std    3,775.73  \n",
       "min        0.00  \n",
       "25%        0.35  \n",
       "50%      103.67  \n",
       "75%      717.15  \n",
       "max   22,410.97  "
      ]
     },
     "execution_count": 10,
     "metadata": {},
     "output_type": "execute_result"
    }
   ],
   "source": [
    "df.describe()"
   ]
  },
  {
   "cell_type": "code",
   "execution_count": 11,
   "metadata": {},
   "outputs": [],
   "source": [
    "df.set_index('DESCRIÇÃO',inplace=True)"
   ]
  },
  {
   "cell_type": "markdown",
   "metadata": {},
   "source": [
    "#### 8 - Instrução para identificar o ano e o valor com a maior dívida"
   ]
  },
  {
   "cell_type": "code",
   "execution_count": 12,
   "metadata": {},
   "outputs": [
    {
     "data": {
      "text/plain": [
       "2017   23,204.91\n",
       "dtype: float64"
      ]
     },
     "execution_count": 12,
     "metadata": {},
     "output_type": "execute_result"
    }
   ],
   "source": [
    "df.sort_values('DESCRIÇÃO').max().sort_values(ascending=False).head(1)"
   ]
  },
  {
   "cell_type": "markdown",
   "metadata": {},
   "source": [
    "###### 2017 é o ano com a maior dívida, provavelmente porque aconteceram as eleições em Angola. kkkk"
   ]
  },
  {
   "cell_type": "markdown",
   "metadata": {},
   "source": [
    "#### 9 - Identificar o maior credor de angola."
   ]
  },
  {
   "cell_type": "code",
   "execution_count": 14,
   "metadata": {},
   "outputs": [
    {
     "data": {
      "text/html": [
       "<div>\n",
       "<style scoped>\n",
       "    .dataframe tbody tr th:only-of-type {\n",
       "        vertical-align: middle;\n",
       "    }\n",
       "\n",
       "    .dataframe tbody tr th {\n",
       "        vertical-align: top;\n",
       "    }\n",
       "\n",
       "    .dataframe thead th {\n",
       "        text-align: right;\n",
       "    }\n",
       "</style>\n",
       "<table border=\"1\" class=\"dataframe\">\n",
       "  <thead>\n",
       "    <tr style=\"text-align: right;\">\n",
       "      <th></th>\n",
       "      <th>2012</th>\n",
       "      <th>2013</th>\n",
       "      <th>2014</th>\n",
       "      <th>2015</th>\n",
       "      <th>2016</th>\n",
       "      <th>2017</th>\n",
       "      <th>2018</th>\n",
       "      <th>2019</th>\n",
       "    </tr>\n",
       "    <tr>\n",
       "      <th>DESCRIÇÃO</th>\n",
       "      <th></th>\n",
       "      <th></th>\n",
       "      <th></th>\n",
       "      <th></th>\n",
       "      <th></th>\n",
       "      <th></th>\n",
       "      <th></th>\n",
       "      <th></th>\n",
       "    </tr>\n",
       "  </thead>\n",
       "  <tbody>\n",
       "    <tr>\n",
       "      <td>CHINA</td>\n",
       "      <td>7,635.69</td>\n",
       "      <td>11,475.66</td>\n",
       "      <td>13,156.28</td>\n",
       "      <td>11,753.37</td>\n",
       "      <td>21,679.22</td>\n",
       "      <td>23,204.91</td>\n",
       "      <td>22,911.20</td>\n",
       "      <td>22,410.97</td>\n",
       "    </tr>\n",
       "  </tbody>\n",
       "</table>\n",
       "</div>"
      ],
      "text/plain": [
       "              2012      2013      2014      2015      2016      2017  \\\n",
       "DESCRIÇÃO                                                              \n",
       "CHINA     7,635.69 11,475.66 13,156.28 11,753.37 21,679.22 23,204.91   \n",
       "\n",
       "               2018      2019  \n",
       "DESCRIÇÃO                      \n",
       "CHINA     22,911.20 22,410.97  "
      ]
     },
     "execution_count": 14,
     "metadata": {},
     "output_type": "execute_result"
    }
   ],
   "source": [
    "df.groupby('DESCRIÇÃO').max().sort_values([2017],ascending=False).head(1)\n"
   ]
  },
  {
   "cell_type": "markdown",
   "metadata": {},
   "source": [
    "#### 10 - Valor mínimo concedido pela China. "
   ]
  },
  {
   "cell_type": "code",
   "execution_count": 16,
   "metadata": {},
   "outputs": [
    {
     "data": {
      "text/plain": [
       "7635.68747245"
      ]
     },
     "execution_count": 16,
     "metadata": {},
     "output_type": "execute_result"
    }
   ],
   "source": [
    "df.loc['CHINA'].min()"
   ]
  },
  {
   "cell_type": "markdown",
   "metadata": {},
   "source": [
    "#### 11- Total da dívida por credor ao longo do período "
   ]
  },
  {
   "cell_type": "code",
   "execution_count": 17,
   "metadata": {},
   "outputs": [
    {
     "data": {
      "text/plain": [
       "DESCRIÇÃO\n",
       "CHINA                         134,227.29\n",
       "GRÃ BRETANHA                   55,330.85\n",
       "ORGANIZAÇÕES INTERNACIONAIS    17,886.45\n",
       "ISRAEL                         17,172.99\n",
       "ESPANHA                        17,167.18\n",
       "BRASIL                         13,699.45\n",
       "RÚSSIA                          8,939.87\n",
       "PORTUGAL                        7,854.27\n",
       "ESTADOS UNIDOS DE AMÉRICA       5,598.20\n",
       "JAPÃO                           5,419.26\n",
       "ÁFRICA DO SUL                   4,955.97\n",
       "FRANÇA                          2,739.18\n",
       "CANADÁ                          2,592.42\n",
       "HOLANDA                         2,303.08\n",
       "IRLANDA                         2,012.62\n",
       "ALEMANHA                        1,265.10\n",
       "REPÚBLICA DA COREIA             1,195.98\n",
       "BÉLGICA                           891.48\n",
       "AÚSTRIA                           787.33\n",
       "EGIPTO                            685.10\n",
       "LUXEMBURGO                        630.61\n",
       "POLÓNIA                           532.56\n",
       "ITÁLIA                            425.46\n",
       "ÍNDIA                             420.16\n",
       "JUGOSLÁVIA                        214.37\n",
       "BAHAMAS                           174.95\n",
       "SUÉCIA                             75.14\n",
       "ILHAS CAIMÃO                       26.74\n",
       "SUÍÇA                              17.67\n",
       "MACAU                              12.80\n",
       "MARROCOS                           12.76\n",
       "BULGÁRIA                            2.80\n",
       "SENEGAL                             2.74\n",
       "DINAMARCA                           2.57\n",
       "NORUEGA                             1.18\n",
       "NAMÍBIA                             1.02\n",
       "CABO-VERDE                          0.34\n",
       "SWAZILÂNDIA                         0.23\n",
       "HUNGRIA                             0.10\n",
       "dtype: float64"
      ]
     },
     "execution_count": 17,
     "metadata": {},
     "output_type": "execute_result"
    }
   ],
   "source": [
    "df.iloc[:,0:8].sum(axis=1).sort_values(ascending=False)\n"
   ]
  },
  {
   "cell_type": "markdown",
   "metadata": {},
   "source": [
    "#### 12 - Valor máximo da dívida por ano"
   ]
  },
  {
   "cell_type": "code",
   "execution_count": 19,
   "metadata": {},
   "outputs": [
    {
     "data": {
      "text/plain": [
       "2017   23,204.91\n",
       "2018   22,911.20\n",
       "2019   22,410.97\n",
       "2016   21,679.22\n",
       "2014   13,156.28\n",
       "2015   11,753.37\n",
       "2013   11,475.66\n",
       "2012    7,635.69\n",
       "dtype: float64"
      ]
     },
     "execution_count": 19,
     "metadata": {},
     "output_type": "execute_result"
    }
   ],
   "source": [
    "df.max().sort_values(ascending=False)"
   ]
  },
  {
   "cell_type": "markdown",
   "metadata": {},
   "source": [
    "#### 13 - Gráfico qe representa á dívida por ano"
   ]
  },
  {
   "cell_type": "code",
   "execution_count": 20,
   "metadata": {},
   "outputs": [
    {
     "data": {
      "image/png": "[encoded data removed]",
      "text/plain": [
       "<Figure size 432x288 with 1 Axes>"
      ]
     },
     "metadata": {
      "needs_background": "light"
     },
     "output_type": "display_data"
    }
   ],
   "source": [
    "df.sort_values('DESCRIÇÃO').max().sort_values(ascending=False).plot(kind='bar');"
   ]
  },
  {
   "cell_type": "markdown",
   "metadata": {},
   "source": [
    "#### 14 - Quais países em 2017 emprestaram mais de 2 mil milhões á Angola."
   ]
  },
  {
   "cell_type": "code",
   "execution_count": 21,
   "metadata": {},
   "outputs": [
    {
     "data": {
      "text/plain": [
       "DESCRIÇÃO\n",
       "CHINA                         23,204.91\n",
       "GRÃ BRETANHA                   3,247.22\n",
       "ISRAEL                         3,027.61\n",
       "ESPANHA                        2,740.86\n",
       "ORGANIZAÇÕES INTERNACIONAIS    2,122.64\n",
       "Name: 2017, dtype: float64"
      ]
     },
     "execution_count": 21,
     "metadata": {},
     "output_type": "execute_result"
    }
   ],
   "source": [
    "df.loc[df[2017]>2000,2017].sort_values(ascending=False)"
   ]
  },
  {
   "cell_type": "markdown",
   "metadata": {},
   "source": [
    "#### 15 - Valor total empretado por Angola  "
   ]
  },
  {
   "cell_type": "code",
   "execution_count": 22,
   "metadata": {},
   "outputs": [
    {
     "name": "stdout",
     "output_type": "stream",
     "text": [
      "305278.25\n"
     ]
    }
   ],
   "source": [
    "ValorGlobal=df.iloc[:,0:8].sum(axis=1).sum()\n",
    "print(locale.format_string(\"%1.2f\",ValorGlobal));\n"
   ]
  },
  {
   "cell_type": "markdown",
   "metadata": {},
   "source": [
    "### O valor total emprestado pelo nosso país está na ordem de 305 Mil Milhoes de dólares..."
   ]
  },
  {
   "cell_type": "markdown",
   "metadata": {},
   "source": [
    "## FIM..."
   ]
  },
  {
   "cell_type": "markdown",
   "metadata": {},
   "source": [
    "Made by Silvio Manuel."
   ]
  },
  {
   "cell_type": "code",
   "execution_count": null,
   "metadata": {},
   "outputs": [],
   "source": []
  }
 ],
 "metadata": {
  "kernelspec": {
   "display_name": "Python 3",
   "language": "python",
   "name": "python3"
  },
  "language_info": {
   "codemirror_mode": {
    "name": "ipython",
    "version": 3
   },
   "file_extension": ".py",
   "mimetype": "text/x-python",
   "name": "python",
   "nbconvert_exporter": "python",
   "pygments_lexer": "ipython3",
   "version": "3.7.4"
  }
 },
 "nbformat": 4,
 "nbformat_minor": 2
}
